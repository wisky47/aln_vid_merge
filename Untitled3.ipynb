{
 "cells": [
  {
   "cell_type": "code",
   "execution_count": 3,
   "id": "4e45b291",
   "metadata": {},
   "outputs": [
    {
     "name": "stdout",
     "output_type": "stream",
     "text": [
      "Collecting opencv-python\n",
      "  Downloading opencv_python-4.6.0.66-cp36-abi3-win_amd64.whl (35.6 MB)\n",
      "Requirement already satisfied: numpy>=1.14.5 in c:\\users\\wish\\anaconda3\\lib\\site-packages (from opencv-python) (1.19.5)\n",
      "Installing collected packages: opencv-python\n",
      "Successfully installed opencv-python-4.6.0.66\n",
      "Note: you may need to restart the kernel to use updated packages.\n"
     ]
    }
   ],
   "source": [
    "pip install opencv-python"
   ]
  },
  {
   "cell_type": "code",
   "execution_count": 5,
   "id": "2954cd2b",
   "metadata": {},
   "outputs": [],
   "source": [
    "import cv2\n",
    "import numpy as np\n",
    "import glob\n",
    "import os"
   ]
  },
  {
   "cell_type": "code",
   "execution_count": 15,
   "id": "e6a0f492",
   "metadata": {},
   "outputs": [],
   "source": [
    "from PIL import Image "
   ]
  },
  {
   "cell_type": "code",
   "execution_count": 6,
   "id": "5f2958b2",
   "metadata": {},
   "outputs": [
    {
     "name": "stdout",
     "output_type": "stream",
     "text": [
      "C:\\Users\\Wish\\Saved Games\n"
     ]
    }
   ],
   "source": [
    "print(os.getcwd()) "
   ]
  },
  {
   "cell_type": "code",
   "execution_count": 8,
   "id": "31968adf",
   "metadata": {},
   "outputs": [],
   "source": [
    "os.chdir(\"C:\\\\Users\\\\Wish\\\\Saved Games\\\\data-20221011T172917Z-001\\\\data\")\n",
    "path = \"C:\\\\Users\\\\Wish\\\\Saved Games\\\\data-20221011T172917Z-001\\\\data\""
   ]
  },
  {
   "cell_type": "code",
   "execution_count": 7,
   "id": "29a225f6",
   "metadata": {},
   "outputs": [],
   "source": [
    "mean_height = 0\n",
    "mean_width = 0"
   ]
  },
  {
   "cell_type": "code",
   "execution_count": 9,
   "id": "ba4ee8f6",
   "metadata": {},
   "outputs": [],
   "source": [
    "num_of_images = len(os.listdir('.'))"
   ]
  },
  {
   "cell_type": "code",
   "execution_count": 11,
   "id": "6d17f44b",
   "metadata": {},
   "outputs": [],
   "source": [
    "mean_width = int(mean_width / num_of_images)\n",
    "mean_height = int(mean_height / num_of_images)"
   ]
  },
  {
   "cell_type": "code",
   "execution_count": 16,
   "id": "ba975906",
   "metadata": {},
   "outputs": [],
   "source": [
    "for file in os.listdir('.'):\n",
    "    im = Image.open(os.path.join(path, file))\n",
    "    width, height = im.size\n",
    "    mean_width += width\n",
    "    mean_height += height"
   ]
  },
  {
   "cell_type": "code",
   "execution_count": 21,
   "id": "42b60f75",
   "metadata": {},
   "outputs": [
    {
     "name": "stdout",
     "output_type": "stream",
     "text": [
      "1226 370\n"
     ]
    },
    {
     "ename": "MemoryError",
     "evalue": "",
     "output_type": "error",
     "traceback": [
      "\u001b[1;31m---------------------------------------------------------------------------\u001b[0m",
      "\u001b[1;31mMemoryError\u001b[0m                               Traceback (most recent call last)",
      "\u001b[1;32m<ipython-input-21-4d5165d0f39e>\u001b[0m in \u001b[0;36m<module>\u001b[1;34m\u001b[0m\n\u001b[0;32m      9\u001b[0m \u001b[1;33m\u001b[0m\u001b[0m\n\u001b[0;32m     10\u001b[0m         \u001b[1;31m# resizing\u001b[0m\u001b[1;33m\u001b[0m\u001b[1;33m\u001b[0m\u001b[1;33m\u001b[0m\u001b[0m\n\u001b[1;32m---> 11\u001b[1;33m         \u001b[0mimResize\u001b[0m \u001b[1;33m=\u001b[0m \u001b[0mim\u001b[0m\u001b[1;33m.\u001b[0m\u001b[0mresize\u001b[0m\u001b[1;33m(\u001b[0m\u001b[1;33m(\u001b[0m\u001b[0mmean_width\u001b[0m\u001b[1;33m,\u001b[0m \u001b[0mmean_height\u001b[0m\u001b[1;33m)\u001b[0m\u001b[1;33m,\u001b[0m \u001b[0mImage\u001b[0m\u001b[1;33m.\u001b[0m\u001b[0mANTIALIAS\u001b[0m\u001b[1;33m)\u001b[0m\u001b[1;33m\u001b[0m\u001b[1;33m\u001b[0m\u001b[0m\n\u001b[0m\u001b[0;32m     12\u001b[0m         \u001b[0mimResize\u001b[0m\u001b[1;33m.\u001b[0m\u001b[0msave\u001b[0m\u001b[1;33m(\u001b[0m \u001b[0mfile\u001b[0m\u001b[1;33m,\u001b[0m \u001b[1;34m'JPEG'\u001b[0m\u001b[1;33m,\u001b[0m \u001b[0mquality\u001b[0m \u001b[1;33m=\u001b[0m \u001b[1;36m95\u001b[0m\u001b[1;33m)\u001b[0m \u001b[1;31m# setting quality\u001b[0m\u001b[1;33m\u001b[0m\u001b[1;33m\u001b[0m\u001b[0m\n\u001b[0;32m     13\u001b[0m         \u001b[1;31m# printing each resized image name\u001b[0m\u001b[1;33m\u001b[0m\u001b[1;33m\u001b[0m\u001b[1;33m\u001b[0m\u001b[0m\n",
      "\u001b[1;32m~\\anaconda3\\lib\\site-packages\\PIL\\Image.py\u001b[0m in \u001b[0;36mresize\u001b[1;34m(self, size, resample, box, reducing_gap)\u001b[0m\n\u001b[0;32m   1941\u001b[0m                 )\n\u001b[0;32m   1942\u001b[0m \u001b[1;33m\u001b[0m\u001b[0m\n\u001b[1;32m-> 1943\u001b[1;33m         \u001b[1;32mreturn\u001b[0m \u001b[0mself\u001b[0m\u001b[1;33m.\u001b[0m\u001b[0m_new\u001b[0m\u001b[1;33m(\u001b[0m\u001b[0mself\u001b[0m\u001b[1;33m.\u001b[0m\u001b[0mim\u001b[0m\u001b[1;33m.\u001b[0m\u001b[0mresize\u001b[0m\u001b[1;33m(\u001b[0m\u001b[0msize\u001b[0m\u001b[1;33m,\u001b[0m \u001b[0mresample\u001b[0m\u001b[1;33m,\u001b[0m \u001b[0mbox\u001b[0m\u001b[1;33m)\u001b[0m\u001b[1;33m)\u001b[0m\u001b[1;33m\u001b[0m\u001b[1;33m\u001b[0m\u001b[0m\n\u001b[0m\u001b[0;32m   1944\u001b[0m \u001b[1;33m\u001b[0m\u001b[0m\n\u001b[0;32m   1945\u001b[0m     \u001b[1;32mdef\u001b[0m \u001b[0mreduce\u001b[0m\u001b[1;33m(\u001b[0m\u001b[0mself\u001b[0m\u001b[1;33m,\u001b[0m \u001b[0mfactor\u001b[0m\u001b[1;33m,\u001b[0m \u001b[0mbox\u001b[0m\u001b[1;33m=\u001b[0m\u001b[1;32mNone\u001b[0m\u001b[1;33m)\u001b[0m\u001b[1;33m:\u001b[0m\u001b[1;33m\u001b[0m\u001b[1;33m\u001b[0m\u001b[0m\n",
      "\u001b[1;31mMemoryError\u001b[0m: "
     ]
    }
   ],
   "source": [
    "for file in os.listdir('.'):\n",
    "    if file.endswith(\".jpg\") or file.endswith(\".jpeg\") or file.endswith(\"png\"):\n",
    "        # opening image using PIL Image\n",
    "        im = Image.open(os.path.join(path, file)) \n",
    "   \n",
    "        # im.size includes the height and width of image\n",
    "        width, height = im.size   \n",
    "        print(width, height)\n",
    "  \n",
    "        # resizing \n",
    "        imResize = im.resize((mean_width, mean_height), Image.ANTIALIAS) \n",
    "        imResize.save( file, 'JPEG', quality = 95) # setting quality\n",
    "        # printing each resized image name\n",
    "        print(im.filename.split('\\\\')[-1], \" is resized\")"
   ]
  },
  {
   "cell_type": "code",
   "execution_count": 19,
   "id": "3b9363a9",
   "metadata": {},
   "outputs": [],
   "source": [
    "def generate_video():\n",
    "    image_folder = '.' # make sure to use your folder\n",
    "    video_name = 'mygeneratedvideo.avi'\n",
    "    os.chdir(\"C:\\\\Users\\\\Wish\\\\Saved Games\\\\data-20221011T172917Z-001\\\\data\")\n",
    "      \n",
    "    images = [img for img in os.listdir(image_folder)\n",
    "              if img.endswith(\".jpg\") or\n",
    "                 img.endswith(\".jpeg\") or\n",
    "                 img.endswith(\"png\")]\n",
    "     \n",
    "    # Array images should only consider\n",
    "    # the image files ignoring others if any\n",
    "    print(images) \n",
    "  \n",
    "    frame = cv2.imread(os.path.join(image_folder, images[0]))\n",
    "  \n",
    "    # setting the frame width, height width\n",
    "    # the width, height of first image\n",
    "    height, width, layers = frame.shape  \n",
    "  \n",
    "    video = cv2.VideoWriter(video_name, 0, 60, (width, height)) \n",
    "  \n",
    "    # Appending the images to the video one by one\n",
    "    for image in images: \n",
    "        video.write(cv2.imread(os.path.join(image_folder, image))) \n",
    "      \n",
    "    # Deallocating memories taken for window creation\n",
    "    cv2.destroyAllWindows() \n",
    "    video.release()  # will release it where your current working directory is present"
   ]
  },
  {
   "cell_type": "code",
   "execution_count": 20,
   "id": "3ccaad76",
   "metadata": {},
   "outputs": [
    {
     "name": "stdout",
     "output_type": "stream",
     "text": [
      "['0000000000.png', '0000000001.png', '0000000002.png', '0000000003.png', '0000000004.png', '0000000005.png', '0000000006.png', '0000000007.png', '0000000008.png', '0000000009.png', '0000000010.png', '0000000011.png', '0000000012.png', '0000000013.png', '0000000014.png', '0000000015.png', '0000000016.png', '0000000017.png', '0000000018.png', '0000000019.png', '0000000020.png', '0000000021.png', '0000000022.png', '0000000023.png', '0000000024.png', '0000000025.png', '0000000026.png', '0000000027.png', '0000000028.png', '0000000029.png', '0000000030.png', '0000000031.png', '0000000032.png', '0000000033.png', '0000000034.png', '0000000035.png', '0000000036.png', '0000000037.png', '0000000038.png', '0000000039.png', '0000000040.png', '0000000041.png', '0000000042.png', '0000000043.png', '0000000044.png', '0000000045.png', '0000000046.png', '0000000047.png', '0000000048.png', '0000000049.png', '0000000050.png', '0000000051.png', '0000000052.png', '0000000053.png', '0000000054.png', '0000000055.png', '0000000056.png', '0000000057.png', '0000000058.png', '0000000059.png', '0000000060.png', '0000000061.png', '0000000062.png', '0000000063.png', '0000000064.png', '0000000065.png', '0000000066.png', '0000000067.png', '0000000068.png', '0000000069.png', '0000000070.png', '0000000071.png', '0000000072.png', '0000000073.png', '0000000074.png', '0000000075.png', '0000000076.png', '0000000077.png', '0000000078.png', '0000000079.png', '0000000080.png', '0000000081.png', '0000000082.png', '0000000083.png', '0000000084.png', '0000000085.png', '0000000086.png', '0000000087.png', '0000000088.png', '0000000089.png', '0000000090.png', '0000000091.png', '0000000092.png', '0000000093.png', '0000000094.png', '0000000095.png', '0000000096.png', '0000000097.png', '0000000098.png', '0000000099.png', '0000000100.png', '0000000101.png', '0000000102.png', '0000000103.png', '0000000104.png', '0000000105.png', '0000000106.png', '0000000107.png', '0000000108.png', '0000000109.png', '0000000110.png', '0000000111.png', '0000000112.png', '0000000113.png', '0000000114.png', '0000000115.png', '0000000116.png', '0000000117.png', '0000000118.png', '0000000119.png', '0000000120.png', '0000000121.png', '0000000122.png', '0000000123.png', '0000000124.png', '0000000125.png', '0000000126.png', '0000000127.png', '0000000128.png', '0000000129.png', '0000000130.png', '0000000131.png', '0000000132.png', '0000000133.png', '0000000134.png', '0000000135.png', '0000000136.png', '0000000137.png', '0000000138.png', '0000000139.png', '0000000140.png', '0000000141.png', '0000000142.png', '0000000143.png', '0000000144.png', '0000000145.png', '0000000146.png', '0000000147.png', '0000000148.png', '0000000149.png', '0000000150.png', '0000000151.png', '0000000152.png', '0000000153.png', '0000000154.png', '0000000155.png', '0000000156.png', '0000000157.png', '0000000158.png', '0000000159.png', '0000000160.png', '0000000161.png', '0000000162.png', '0000000163.png', '0000000164.png', '0000000165.png', '0000000166.png', '0000000167.png', '0000000168.png', '0000000169.png', '0000000170.png', '0000000171.png', '0000000172.png', '0000000173.png', '0000000174.png', '0000000175.png', '0000000176.png', '0000000177.png', '0000000178.png', '0000000179.png', '0000000180.png', '0000000181.png', '0000000182.png', '0000000183.png', '0000000184.png', '0000000185.png', '0000000186.png', '0000000187.png', '0000000188.png', '0000000189.png', '0000000190.png', '0000000191.png', '0000000192.png', '0000000193.png', '0000000194.png', '0000000195.png', '0000000196.png', '0000000197.png', '0000000198.png', '0000000199.png', '0000000200.png', '0000000201.png', '0000000202.png', '0000000203.png', '0000000204.png', '0000000205.png', '0000000206.png', '0000000207.png', '0000000208.png', '0000000209.png', '0000000210.png', '0000000211.png', '0000000212.png', '0000000213.png', '0000000214.png', '0000000215.png', '0000000216.png', '0000000217.png', '0000000218.png', '0000000219.png', '0000000220.png', '0000000221.png', '0000000222.png', '0000000223.png', '0000000224.png', '0000000225.png', '0000000226.png', '0000000227.png', '0000000228.png', '0000000229.png', '0000000230.png', '0000000231.png', '0000000232.png', '0000000233.png', '0000000234.png', '0000000235.png', '0000000236.png', '0000000237.png', '0000000238.png', '0000000239.png', '0000000240.png', '0000000241.png', '0000000242.png', '0000000243.png', '0000000244.png', '0000000245.png', '0000000246.png', '0000000247.png', '0000000248.png', '0000000249.png', '0000000250.png', '0000000251.png', '0000000252.png', '0000000253.png', '0000000254.png', '0000000255.png', '0000000256.png', '0000000257.png', '0000000258.png', '0000000259.png', '0000000260.png', '0000000261.png', '0000000262.png', '0000000263.png', '0000000264.png', '0000000265.png', '0000000266.png', '0000000267.png', '0000000268.png', '0000000269.png', '0000000270.png', '0000000271.png', '0000000272.png', '0000000273.png', '0000000274.png', '0000000275.png', '0000000276.png', '0000000277.png', '0000000278.png']\n"
     ]
    }
   ],
   "source": [
    "generate_video()   #last step"
   ]
  },
  {
   "cell_type": "code",
   "execution_count": null,
   "id": "07b64411",
   "metadata": {},
   "outputs": [],
   "source": []
  }
 ],
 "metadata": {
  "kernelspec": {
   "display_name": "Python 3",
   "language": "python",
   "name": "python3"
  },
  "language_info": {
   "codemirror_mode": {
    "name": "ipython",
    "version": 3
   },
   "file_extension": ".py",
   "mimetype": "text/x-python",
   "name": "python",
   "nbconvert_exporter": "python",
   "pygments_lexer": "ipython3",
   "version": "3.8.8"
  }
 },
 "nbformat": 4,
 "nbformat_minor": 5
}
